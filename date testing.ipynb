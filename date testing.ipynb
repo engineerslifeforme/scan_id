{
 "cells": [
  {
   "cell_type": "code",
   "execution_count": null,
   "id": "introductory-gravity",
   "metadata": {},
   "outputs": [],
   "source": [
    "import os"
   ]
  },
  {
   "cell_type": "code",
   "execution_count": null,
   "id": "trying-portal",
   "metadata": {},
   "outputs": [],
   "source": [
    "from pathlib import Path"
   ]
  },
  {
   "cell_type": "code",
   "execution_count": null,
   "id": "ahead-going",
   "metadata": {},
   "outputs": [],
   "source": [
    "import PyPDF2"
   ]
  },
  {
   "cell_type": "code",
   "execution_count": null,
   "id": "ignored-intersection",
   "metadata": {},
   "outputs": [],
   "source": [
    "import datefinder"
   ]
  },
  {
   "cell_type": "code",
   "execution_count": null,
   "id": "cultural-injury",
   "metadata": {},
   "outputs": [],
   "source": [
    "import datetime"
   ]
  },
  {
   "cell_type": "code",
   "execution_count": null,
   "id": "permanent-crack",
   "metadata": {},
   "outputs": [],
   "source": [
    "import pandas as pd\n",
    "from joblib import dump, load\n",
    "from sklearn.preprocessing import StandardScaler\n",
    "from sklearn.svm import SVC\n",
    "import numpy as np"
   ]
  },
  {
   "cell_type": "code",
   "execution_count": null,
   "id": "later-conspiracy",
   "metadata": {},
   "outputs": [],
   "source": [
    "top = Path('/Volumes/Documents/Records')"
   ]
  },
  {
   "cell_type": "code",
   "execution_count": null,
   "id": "complicated-helmet",
   "metadata": {},
   "outputs": [],
   "source": [
    "dir_paths = [item for item in top.glob('*') if item.is_dir()]"
   ]
  },
  {
   "cell_type": "code",
   "execution_count": null,
   "id": "bearing-provision",
   "metadata": {},
   "outputs": [],
   "source": [
    "directory = dir_paths[0]"
   ]
  },
  {
   "cell_type": "code",
   "execution_count": null,
   "id": "quick-hypothetical",
   "metadata": {},
   "outputs": [],
   "source": [
    "type_name = directory.name\n",
    "file_paths = [item for item in directory.rglob('*') if item.is_file() and item.name[0:8].isnumeric() and item.suffix.lower() == '.pdf']    "
   ]
  },
  {
   "cell_type": "code",
   "execution_count": null,
   "id": "iraqi-adapter",
   "metadata": {},
   "outputs": [],
   "source": [
    "example = file_paths[0]"
   ]
  },
  {
   "cell_type": "code",
   "execution_count": null,
   "id": "fatty-organ",
   "metadata": {},
   "outputs": [],
   "source": [
    "# creating a pdf file object\n",
    "def get_text_from_pdf(pdf_path: Path):\n",
    "    with open(example, 'rb') as pdfFileObj:\n",
    "\n",
    "        # creating a pdf reader object \n",
    "        pdfReader = PyPDF2.PdfFileReader(pdfFileObj) \n",
    "\n",
    "        # printing number of pages in pdf file \n",
    "        numpages = pdfReader.numPages\n",
    "\n",
    "        page = 0\n",
    "        text = ''\n",
    "        while page < numpages:\n",
    "            # creating a page object \n",
    "            pageObj = pdfReader.getPage(0) \n",
    "\n",
    "            # extracting text from page \n",
    "            text += pageObj.extractText()\n",
    "            page += 1\n",
    "    return text"
   ]
  },
  {
   "cell_type": "code",
   "execution_count": null,
   "id": "fifty-event",
   "metadata": {},
   "outputs": [],
   "source": [
    "for file_path in file_paths:\n",
    "    text = get_text_from_pdf(file_path)\n",
    "    good_dates = [item for item in datefinder.find_dates(text) if item > datetime.datetime(2010, 1, 1) and item.date() < datetime.date.today()]\n",
    "    print(good_dates)"
   ]
  },
  {
   "cell_type": "code",
   "execution_count": null,
   "id": "identical-algorithm",
   "metadata": {},
   "outputs": [],
   "source": []
  }
 ],
 "metadata": {
  "kernelspec": {
   "display_name": "Python 3",
   "language": "python",
   "name": "python3"
  },
  "language_info": {
   "codemirror_mode": {
    "name": "ipython",
    "version": 3
   },
   "file_extension": ".py",
   "mimetype": "text/x-python",
   "name": "python",
   "nbconvert_exporter": "python",
   "pygments_lexer": "ipython3",
   "version": "3.7.10"
  }
 },
 "nbformat": 4,
 "nbformat_minor": 5
}
